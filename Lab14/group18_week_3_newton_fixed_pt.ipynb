{
  "cells": [
    {
      "cell_type": "markdown",
      "metadata": {
        "id": "view-in-github",
        "colab_type": "text"
      },
      "source": [
        "<a href=\"https://colab.research.google.com/github/dlopezav/MetNumUN2021II/blob/main/Lab14/group18_week_3_newton_fixed_pt.ipynb\" target=\"_parent\"><img src=\"https://colab.research.google.com/assets/colab-badge.svg\" alt=\"Open In Colab\"/></a>"
      ]
    },
    {
      "cell_type": "markdown",
      "metadata": {
        "id": "CJmK9_0bddyg"
      },
      "source": [
        "# Part I. Root-finding. Newton's iteration."
      ]
    },
    {
      "cell_type": "markdown",
      "metadata": {
        "id": "qLebvhhaddzc"
      },
      "source": [
        "Write a function which performs Newton's iteration for a given function $f(x)$ with known derivative $f'(x)$. Your function should find the root of $f(x)$ with a predefined absolute accuracy $\\epsilon$. "
      ]
    },
    {
      "cell_type": "code",
      "execution_count": 5,
      "metadata": {
        "collapsed": true,
        "id": "D-esnyWUddz6"
      },
      "outputs": [],
      "source": [
        "def newton_iteration(f, fder, x0, eps=1e-5, maxiter=1000):\n",
        "    \"\"\"Find a root of $f(x) = 0$ via Newton's iteration starting from x0.\n",
        "    \n",
        "    Parameters\n",
        "    ----------\n",
        "    f : callable\n",
        "        The function to find a root of.\n",
        "    fder : callable\n",
        "        The derivative of `f`.\n",
        "    x0 : float\n",
        "        Initial value for the Newton's iteration.\n",
        "    eps : float\n",
        "        The target accuracy. \n",
        "        The iteration stops when the distance between successive iterates is below `eps`.\n",
        "        Default is 1e-5.\n",
        "    maxiter : int\n",
        "        The maximum number of iterations (default is 1000.)\n",
        "        Iterations terminate if the number of iterations exceeds `maxiter`.\n",
        "        This parameter is only needed to avoid infinite loops if iterations wander off.\n",
        "        \n",
        "    Returns\n",
        "    -------\n",
        "    x : float\n",
        "        The estimate for the root.\n",
        "    niter : int\n",
        "        The number of iterations.\n",
        "    \"\"\"\n",
        "    xn = x0\n",
        "    for i in range(0,maxiter):\n",
        "      fxn = f(xn)\n",
        "      if(abs(fxn) <= eps):\n",
        "        return xn, i+1\n",
        "      Dfx = fder(xn)\n",
        "      if Dfx == 0:\n",
        "        return 'No solution found', i\n",
        "      xn = xn - f(xn)/fder(xn)\n",
        "    return 'No converge con '+ str(maxiter)+' iteraciones'\n"
      ]
    },
    {
      "cell_type": "markdown",
      "metadata": {
        "id": "zVYQBeJWdd0g"
      },
      "source": [
        "### Test I.1 \n",
        "\n",
        "Test your implementation on a simple example, $f(x) = x^2 - 1$ or similar. (20% of the total grade)"
      ]
    },
    {
      "cell_type": "code",
      "execution_count": 6,
      "metadata": {
        "collapsed": true,
        "colab": {
          "base_uri": "https://localhost:8080/"
        },
        "id": "YZgL4stfdd0t",
        "outputId": "49cfd2ee-3307-460b-fbbc-689d6b55b890"
      },
      "outputs": [
        {
          "output_type": "execute_result",
          "data": {
            "text/plain": [
              "(1.000000206911199, 7)"
            ]
          },
          "metadata": {},
          "execution_count": 6
        }
      ],
      "source": [
        "def f(x):\n",
        "  return x**2 - 1\n",
        "def fder(x):\n",
        "  return 2*x\n",
        "newton_iteration(f, fder, 8)"
      ]
    },
    {
      "cell_type": "markdown",
      "metadata": {
        "id": "enpXO_chdd0w"
      },
      "source": [
        "### Test I.2\n",
        "\n",
        "Now consider a function which has a multiple root. Take $f(x) = (x^2 - 1)^2$ as an example. Implement a modified Newton's iteraion,\n",
        "\n",
        "$$\n",
        "x_{n+1} = x_{n} - m \\frac{f(x_n)}{f'(x_n)}\n",
        "$$\n",
        "\n",
        "and vary $m= 1, 2, 3, 4, 5$. Check the number of iterations required for convergence within a fixed $\\epsilon$. Are your observations consistent with the expectation that the convergence is quadratic is $m$ equals the multiplicity of the root, and is linear otherwise? (40% of the total grade)"
      ]
    },
    {
      "cell_type": "code",
      "execution_count": 18,
      "metadata": {
        "collapsed": true,
        "colab": {
          "base_uri": "https://localhost:8080/"
        },
        "id": "3fIzHCEcdd0z",
        "outputId": "53b701d6-cb46-4504-b73a-4092ecf40818"
      },
      "outputs": [
        {
          "output_type": "stream",
          "name": "stdout",
          "text": [
            "No converge con 1000 iteraciones\n",
            "(1.001168051287239, 17)\n"
          ]
        }
      ],
      "source": [
        "def f2(x):\n",
        "  return (x**2 - 1)**2\n",
        "def fder2(x):\n",
        "  return 2*(x**2 - 1)*2*x\n",
        "def newton_iteration_m(f, fder, x0, m,eps=1e-5, maxiter=1000):\n",
        "    \n",
        "    xn = x0\n",
        "    for i in range(0,maxiter):\n",
        "      fxn = f(xn)\n",
        "      if(abs(fxn) <= eps):\n",
        "        return xn, i+1\n",
        "      Dfx = fder(xn)\n",
        "      if Dfx == 0:\n",
        "        return 'No solution found', i\n",
        "      xn = xn - m*f(xn)/fder(xn)\n",
        "\n",
        "    return 'No converge con '+ str(maxiter)+' iteraciones'\n",
        "print(newton_iteration_m(f2, fder2, 8, 6))\n",
        "print(newton_iteration(f2, fder2, 8))"
      ]
    },
    {
      "cell_type": "markdown",
      "metadata": {
        "id": "AGUhwM08dd1C"
      },
      "source": [
        "# Part II. Fixed-point iteration"
      ]
    },
    {
      "cell_type": "markdown",
      "metadata": {
        "id": "TCWuUCXadd1G"
      },
      "source": [
        "Consider the following equation:\n",
        "\n",
        "$$\n",
        "\\sqrt{x} = \\cos{x}\n",
        "$$\n",
        "\n",
        "Plot the left-hand side and right-hand side of this equation, and localize the root graphically. Estimate the location of the root by visual inspection of the plot.\n",
        "\n",
        "Write a function which finds the solution using fixed-point iteration up to a predefined accuracy $\\epsilon$. Compare the result to an estimate from a visual inspection.\n",
        "\n",
        "Next, rewrite the fixed-point problem in the form\n",
        "\n",
        "$$\n",
        "x = x - \\alpha f(x)\n",
        "$$\n",
        "\n",
        "where $\\alpha$ is the free parameter. Check the dependence of the number of iterations required for a given $\\epsilon$ on $\\alpha$. Compare your results to an expectation that the optimal value of $\\alpha$ is given by \n",
        "\n",
        "$$\n",
        "\\alpha = \\frac{2}{m + M}\n",
        "$$\n",
        "\n",
        "where $0 < m < |f'(x)| < M$ over the localization interval. (40% of the total grade)"
      ]
    },
    {
      "cell_type": "code",
      "execution_count": 32,
      "metadata": {
        "collapsed": true,
        "colab": {
          "base_uri": "https://localhost:8080/",
          "height": 295
        },
        "id": "FSLFsVd8dd1Q",
        "outputId": "857c9084-ea2a-4e34-8fad-78bff630bdfb"
      },
      "outputs": [
        {
          "output_type": "stream",
          "name": "stderr",
          "text": [
            "/usr/local/lib/python3.7/dist-packages/ipykernel_launcher.py:17: UserWarning: You have mixed positional and keyword arguments, some input may be discarded.\n"
          ]
        },
        {
          "output_type": "display_data",
          "data": {
            "image/png": "[encoded data removed]",
            "text/plain": [
              "<Figure size 432x288 with 1 Axes>"
            ]
          },
          "metadata": {
            "needs_background": "light"
          }
        }
      ],
      "source": [
        "import matplotlib.pyplot as plt\n",
        "import numpy as np\n",
        "x = np.linspace(0,2,100)\n",
        "y1 = x**(1/2)\n",
        "y2 = np.cos(x)\n",
        "\n",
        "fig = plt.figure()\n",
        "ax = fig.add_subplot(1, 1, 1)\n",
        "ax.spines['left'].set_position('center')\n",
        "ax.spines['bottom'].set_position('zero')\n",
        "ax.spines['right'].set_color('none')\n",
        "ax.spines['top'].set_color('none')\n",
        "ax.xaxis.set_ticks_position('bottom')\n",
        "ax.yaxis.set_ticks_position('left')\n",
        "plt.plot(x, y1)\n",
        "plt.plot(x, y2)\n",
        "plt.legend([1,2], labels=[\"sqrt(x)\", \"cos(x)\"])\n",
        "plt.show()"
      ]
    },
    {
      "cell_type": "code",
      "source": [
        "def fixed_point_sol(eps = 1e-5, alpha = 1):\n",
        "    \n",
        "    prev = 1.5 / 2\n",
        "    curve = prev - alpha*(np.sqrt(prev) - np.cos(prev))\n",
        "    eps1 = abs(curve - prev) * 10\n",
        "    num = 1\n",
        "    \n",
        "    while abs(curve - prev) > 0.25 * eps and curve > 0:\n",
        "        prev = curve\n",
        "        curve = curve - alpha*(np.sqrt(curve) - np.cos(curve))\n",
        "        num = num + 1\n",
        "        \n",
        "    return curve, num"
      ],
      "metadata": {
        "id": "jQmTdVW5pRbl"
      },
      "execution_count": 33,
      "outputs": []
    },
    {
      "cell_type": "code",
      "source": [
        "for i in [0.1, 0.5, 1.0, 2.0]:\n",
        "    print(i, fixed_point_sol(alpha = i))"
      ],
      "metadata": {
        "colab": {
          "base_uri": "https://localhost:8080/"
        },
        "id": "icdM6OAAvBd7",
        "outputId": "95dcf945-c06b-4239-f018-a1c08532e184"
      },
      "execution_count": 34,
      "outputs": [
        {
          "output_type": "stream",
          "name": "stdout",
          "text": [
            "0.1 (0.6417314556204897, 67)\n",
            "0.5 (0.6417156095558334, 12)\n",
            "1.0 (0.6417142154160496, 9)\n",
            "2.0 (-0.11760568315221742, 5)\n"
          ]
        }
      ]
    },
    {
      "cell_type": "code",
      "source": [
        "fixed_point_sol(alpha = 2.0 / 3)"
      ],
      "metadata": {
        "colab": {
          "base_uri": "https://localhost:8080/"
        },
        "id": "tJSCSU3LvCqf",
        "outputId": "48ab634d-ad18-482e-b4fd-5ef7f63bd6a7"
      },
      "execution_count": 35,
      "outputs": [
        {
          "output_type": "execute_result",
          "data": {
            "text/plain": [
              "(0.6417145071423276, 8)"
            ]
          },
          "metadata": {},
          "execution_count": 35
        }
      ]
    },
    {
      "cell_type": "markdown",
      "metadata": {
        "id": "BnGHWnyqdd1Z"
      },
      "source": [
        "# Part III. Newton's fractal.\n",
        "\n",
        "(Not graded). \n",
        "\n",
        "Consider the equation\n",
        "\n",
        "$$\n",
        "x^3 = 1\n",
        "$$\n",
        "\n",
        "It has three solutions in the complex plane, $x_k = \\exp(i\\, 2\\pi k/ 3)$, $k = 0, 1, 2$.\n",
        "\n",
        "The Newton's iterations converge to one of these solutions, depending on the starting point in the complex plane (to converge to a complex-valued solution, the iteration needs a complex-valued starting point).\n",
        "\n",
        "Plot the \\emph{basins of attraction} of these roots on the complex plane of $x$ (i.e., on the plane $\\mathrm{Re}x$ -- $\\mathrm{Im}x$). To this end, make a series of calculations, varying the initial conditions on a grid of points. \n",
        "Color the grid in three colors, according to the root, to which iterations converged."
      ]
    },
    {
      "cell_type": "code",
      "execution_count": 37,
      "metadata": {
        "collapsed": true,
        "id": "4bDkysLrdd1f"
      },
      "outputs": [],
      "source": [
        "import cmath\n",
        "\n",
        "def newt_frac(x0):\n",
        "    \n",
        "    eps=1e-5\n",
        "    maxiter=1000\n",
        "    cur = x0 - (x0**3-1)/3*x0**2\n",
        "    prev = x0\n",
        "    \n",
        "    for _ in range(maxiter):\n",
        "        if(abs(cur-prev)<=eps):\n",
        "            break\n",
        "        if(abs(cur-prev)>1e2):\n",
        "            return 0\n",
        "        prev = cur\n",
        "        cur = cur - (cur**3-1)/3*cur**2\n",
        "        \n",
        "    if abs(cur-cmath.exp(complex(0,2*np.pi*1/3)))<abs(cur-cmath.exp(complex(0,2*np.pi*2/3))):\n",
        "        return 1\n",
        "    else :\n",
        "        return 2"
      ]
    },
    {
      "cell_type": "code",
      "source": [
        "x = np.linspace(-2, 2, 1000)\n",
        "y = np.linspace(-2, 2, 1000)\n",
        "\n",
        "for x0 in x:\n",
        "    for y0 in y:\n",
        "        fr = newt_frac(complex(x0,y0))\n",
        "        if fr==1:\n",
        "            plt.plot(x0, y0, marker='o', markersize=3, color='blue')\n",
        "        elif fr==2:\n",
        "            plt.plot(x0, y0, marker='o', markersize=3, color='red')\n",
        "            \n",
        "        \n",
        "roots_x = []\n",
        "roots_y = []\n",
        "for i in range(3):\n",
        "    z = cmath.exp(complex(0,2*np.pi*i/3))\n",
        "    roots_x.append(z.real)\n",
        "    roots_y.append(z.imag)\n",
        "\n",
        "plt.scatter(roots_x, roots_y, c='g')\n",
        "plt.show()"
      ],
      "metadata": {
        "colab": {
          "base_uri": "https://localhost:8080/",
          "height": 265
        },
        "id": "60CrHPLwxFEM",
        "outputId": "cc9f6ae7-7ae0-4b53-ecd2-419c2ab44cb5"
      },
      "execution_count": 41,
      "outputs": [
        {
          "output_type": "display_data",
          "data": {
            "image/png": "[encoded data removed]",
            "text/plain": [
              "<Figure size 432x288 with 1 Axes>"
            ]
          },
          "metadata": {
            "needs_background": "light"
          }
        }
      ]
    },
    {
      "cell_type": "code",
      "source": [
        ""
      ],
      "metadata": {
        "id": "Go202LAJxLlw"
      },
      "execution_count": null,
      "outputs": []
    }
  ],
  "metadata": {
    "kernelspec": {
      "display_name": "Python 3",
      "language": "python",
      "name": "python3"
    },
    "language_info": {
      "codemirror_mode": {
        "name": "ipython",
        "version": 3
      },
      "file_extension": ".py",
      "mimetype": "text/x-python",
      "name": "python",
      "nbconvert_exporter": "python",
      "pygments_lexer": "ipython3",
      "version": "3.5.2"
    },
    "colab": {
      "name": "group18_week_3_newton_fixed_pt.ipynb",
      "provenance": [],
      "collapsed_sections": [],
      "include_colab_link": true
    }
  },
  "nbformat": 4,
  "nbformat_minor": 0
}