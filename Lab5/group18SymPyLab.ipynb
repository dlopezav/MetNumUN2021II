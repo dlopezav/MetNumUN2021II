{
  "nbformat": 4,
  "nbformat_minor": 0,
  "metadata": {
    "colab": {
      "name": "group18SymPyLab.ipynb",
      "provenance": [],
      "collapsed_sections": [],
      "include_colab_link": true
    },
    "kernelspec": {
      "name": "python3",
      "display_name": "Python 3"
    }
  },
  "cells": [
    {
      "cell_type": "markdown",
      "metadata": {
        "id": "view-in-github",
        "colab_type": "text"
      },
      "source": [
        "<a href=\"https://colab.research.google.com/github/dlopezav/MetNumUN2021II/blob/main/Lab5/group18SymPyLab.ipynb\" target=\"_parent\"><img src=\"https://colab.research.google.com/assets/colab-badge.svg\" alt=\"Open In Colab\"/></a>"
      ]
    },
    {
      "cell_type": "markdown",
      "metadata": {
        "id": "vtY1shFnMal_"
      },
      "source": [
        "# SymPyLab\n",
        "\n",
        "SymPy’s documentation\n",
        "- https://docs.sympy.org/latest/index.html\n"
      ]
    },
    {
      "cell_type": "markdown",
      "metadata": {
        "id": "2U0fAIf5G4rR"
      },
      "source": [
        "## SymPy’s polynomials \n",
        "- https://docs.sympy.org/latest/modules/polys/basics.html#polynomials \n",
        "\n",
        "$$ P_n(x) =  a_n x^n + a_{n-1} x^{n-1} + a_{n-2} x^{n-2} +\\cdots +  a_1 x  + a_0$$\n",
        "\n",
        "$$P_n(x) = 0 $$\n",
        "\n",
        "$$a_n x^n + a_{n-1} x^{n-1} + a_{n-2} x^{n-2} +\\cdots +  a_1 x  + a_0 = 0$$\n",
        "\n",
        "$$(x-r_1) Q_{n-1}(x) = P_n(x)$$\n",
        "$$(x-r_1) (x - r_2) Q_{n-2}(x) = P_n(x)$$\n",
        "$$ \\vdots $$\n",
        "\n",
        "- (x-1)(x-2)(x-3)(x-4)(x-5) = x^5 - 15 x^4  + 85 x^3 - 225 x^2 + 274 x - 120\n",
        "\n",
        "- (x^5 - 15 x^4  + 85 x^3 - 225 x^2 + 274 x - 120) / (x-1) = x^4  - 14 x^3  + 71 x^2  - 154 x + 120"
      ]
    },
    {
      "cell_type": "markdown",
      "metadata": {
        "id": "uT-yInIaF36j"
      },
      "source": [
        "**Group 18 Text Cell**\n",
        "\n",
        "(x+1)(x-1)(x+7)(x-3)(x+9)(x-12) = (x^6 + x^5 - 142 x^4 - 370 x^3 + 2409 x^2 + 369 x - 2268)\n",
        "(x^6 + x^5 - 142 x^4 - 370 x^3 + 2409 x^2 + 369 x - 2268)/(x-3)= (x^5 + 4 x^4 - 130 x^3 - 760 x^2 + 129 x + 756)"
      ]
    },
    {
      "cell_type": "markdown",
      "metadata": {
        "id": "GSRpl42A6UXg"
      },
      "source": [
        "<img src=\"https://raw.githubusercontent.com/gjhernandezp/algorithms/master/SymPyLab/sympylabwolfram1.jpg\" /> <img src=\"https://raw.githubusercontent.com/gjhernandezp/algorithms/master/SymPyLab/sympylabwolfram3.jpg\" />\n"
      ]
    },
    {
      "cell_type": "code",
      "metadata": {
        "id": "Fw1yPZWLMb5P",
        "colab": {
          "base_uri": "https://localhost:8080/"
        },
        "outputId": "aec02c3e-c40f-44dd-c56a-c2ea0ede0864"
      },
      "source": [
        "from sympy import Symbol\n",
        "from sympy import div\n",
        "\n",
        "x = Symbol('x')\n",
        "\n",
        "p = x**5 - 15*x**4  + 85*x**3 - 225*x**2 + 274*x - 120\n",
        "\n",
        "p, r = div(p,  x-1)\n",
        "\n",
        "print(p)\n",
        "print(r)\n",
        "\n",
        "p, r = div(p,  x-2)\n",
        "\n",
        "print(p)\n",
        "print(r)\n",
        "\n",
        "p, r = div(p,  x-3)\n",
        "\n",
        "print(p)\n",
        "print(r)\n",
        "\n",
        "p, r = div(p,  x-4)\n",
        "\n",
        "print(p)\n",
        "print(r)\n",
        "\n"
      ],
      "execution_count": null,
      "outputs": [
        {
          "output_type": "stream",
          "name": "stdout",
          "text": [
            "x**4 - 14*x**3 + 71*x**2 - 154*x + 120\n",
            "0\n",
            "x**3 - 12*x**2 + 47*x - 60\n",
            "0\n",
            "x**2 - 9*x + 20\n",
            "0\n",
            "x - 5\n",
            "0\n"
          ]
        }
      ]
    },
    {
      "cell_type": "code",
      "metadata": {
        "id": "JQB-wQKWFp3P",
        "colab": {
          "base_uri": "https://localhost:8080/"
        },
        "outputId": "34e46995-b3f4-49bb-9413-e0db32ba0464"
      },
      "source": [
        "# Group 18 Code Cell\n",
        "\"\"\"\n",
        "(x+1)(x-1)(x+7)(x-3)(x+9)(x-12) = (x^6 + x^5 - 142 x^4 - 370 x^3 + 2409 x^2 + 369 x - 2268) \n",
        "(x^6 + x^5 - 142 x^4 - 370 x^3 + 2409 x^2 + 369 x - 2268)/(x-3)= (x^5 + 4 x^4 - 130 x^3 - 760 x^2 + 129 x + 756\n",
        "\"\"\"\n",
        "from sympy import Symbol\n",
        "from sympy import div\n",
        "\n",
        "x = Symbol('x')\n",
        "\n",
        "p2 =  (x**6 + x**5 - 142*x**4 - 370*x**3 + 2409*x**2 + 369*x - 2268) \n",
        "\n",
        "p2, r2 = div(p2,  x-3)\n",
        "\n",
        "print(p2)\n",
        "print(r2)\n",
        "\n",
        "p2, r2 = div(p2,  x-1)\n",
        "\n",
        "print(p2)\n",
        "print(r2)\n",
        "\n",
        "p2, r2 = div(p2,  x+7)\n",
        "\n",
        "print(p2)\n",
        "print(r2)\n",
        "\n",
        "p2, r2 = div(p2,  x-12)\n",
        "\n",
        "print(p2)\n",
        "print(r2)"
      ],
      "execution_count": null,
      "outputs": [
        {
          "output_type": "stream",
          "name": "stdout",
          "text": [
            "x**5 + 4*x**4 - 130*x**3 - 760*x**2 + 129*x + 756\n",
            "0\n",
            "x**4 + 5*x**3 - 125*x**2 - 885*x - 756\n",
            "0\n",
            "x**3 - 2*x**2 - 111*x - 108\n",
            "0\n",
            "x**2 + 10*x + 9\n",
            "0\n"
          ]
        }
      ]
    },
    {
      "cell_type": "code",
      "metadata": {
        "colab": {
          "base_uri": "https://localhost:8080/"
        },
        "id": "gQ-VwywTarYw",
        "outputId": "399517c1-bc86-44e7-87b1-ef5e83d6e829"
      },
      "source": [
        "p = x**5 - 15*x**4  + 85*x**3 - 225*x**2 + 274*x - 120\n",
        "\n",
        "p, r = div(p,  x-6)\n",
        "\n",
        "print(p)\n",
        "print(r)"
      ],
      "execution_count": null,
      "outputs": [
        {
          "output_type": "stream",
          "name": "stdout",
          "text": [
            "x**4 - 9*x**3 + 31*x**2 - 39*x + 40\n",
            "120\n"
          ]
        }
      ]
    },
    {
      "cell_type": "code",
      "metadata": {
        "id": "IiebctmGF82H",
        "colab": {
          "base_uri": "https://localhost:8080/"
        },
        "outputId": "e0ba0935-bb8d-416f-b24a-e29ba68b0515"
      },
      "source": [
        "# Group 18 Code Cell\n",
        "p2 = (x**6 + x**5 - 142*x**4 - 370*x**3 + 2409*x**2 + 369*x - 2268)\n",
        "\n",
        "p2, r2 = div(p2,  x+9)\n",
        "\n",
        "print(p2)\n",
        "print(r2)"
      ],
      "execution_count": null,
      "outputs": [
        {
          "output_type": "stream",
          "name": "stdout",
          "text": [
            "x**5 - 8*x**4 - 70*x**3 + 260*x**2 + 69*x - 252\n",
            "0\n"
          ]
        }
      ]
    },
    {
      "cell_type": "markdown",
      "metadata": {
        "id": "LrP1xT6VKZrE"
      },
      "source": [
        "## SymPy’s polynomial simple univariate polynomial factorization\n",
        "- https://docs.sympy.org/latest/modules/polys/wester.html#simple-univariate-polynomial-factorization\n",
        "- factor(x\\*\\*5 - 15\\*x\\*\\*4  + 85\\*x\\*\\*3 - 225\\*x\\*\\*2 + 274\\*x - 120)"
      ]
    },
    {
      "cell_type": "markdown",
      "metadata": {
        "id": "qipGsGDnGKcQ"
      },
      "source": [
        "**Group 18 Text Cell**"
      ]
    },
    {
      "cell_type": "markdown",
      "metadata": {
        "id": "2NPChCoPLsls"
      },
      "source": [
        "<img src=\"https://raw.githubusercontent.com/gjhernandezp/algorithms/master/SymPyLab/sympylabwolfram4.jpg\" />\n"
      ]
    },
    {
      "cell_type": "markdown",
      "metadata": {
        "id": "gV4WiWGmGK6h"
      },
      "source": [
        "**Group 18 Text Cell**"
      ]
    },
    {
      "cell_type": "code",
      "metadata": {
        "id": "i2vHjXOIKvQu",
        "colab": {
          "base_uri": "https://localhost:8080/",
          "height": 38
        },
        "outputId": "4e18a695-80bd-4388-bda4-0ad19300e80a"
      },
      "source": [
        "from sympy import Symbol,factor\n",
        "x = Symbol('x')\n",
        "factor(x**5 - 15*x**4  + 85*x**3 - 225*x**2 + 274*x - 120)"
      ],
      "execution_count": null,
      "outputs": [
        {
          "output_type": "execute_result",
          "data": {
            "text/latex": "$\\displaystyle \\left(x - 5\\right) \\left(x - 4\\right) \\left(x - 3\\right) \\left(x - 2\\right) \\left(x - 1\\right)$",
            "text/plain": [
              "(x - 5)*(x - 4)*(x - 3)*(x - 2)*(x - 1)"
            ]
          },
          "metadata": {},
          "execution_count": 5
        }
      ]
    },
    {
      "cell_type": "code",
      "metadata": {
        "id": "nIT1eo2HGA49",
        "colab": {
          "base_uri": "https://localhost:8080/",
          "height": 38
        },
        "outputId": "47020e81-b00c-4444-ec82-f11a0c9efb8b"
      },
      "source": [
        "# Group 18 Code Cell\n",
        "\"\"\"\n",
        "(x^6 + x^5 - 142 x^4 - 370 x^3 + 2409 x^2 + 369 x - 2268)\n",
        "p =  (x**6 + x**5 - 142*x**4 - 370*x**3 + 2409*x**2 + 369*x - 2268) \n",
        "\"\"\"\n",
        "from sympy import Symbol,factor\n",
        "x = Symbol('x')\n",
        "p2 =  (x**6 + x**5 - 142*x**4 - 370*x**3 + 2409*x**2 + 369*x - 2268)\n",
        "factor(p2)"
      ],
      "execution_count": null,
      "outputs": [
        {
          "output_type": "execute_result",
          "data": {
            "text/latex": "$\\displaystyle \\left(x - 12\\right) \\left(x - 3\\right) \\left(x - 1\\right) \\left(x + 1\\right) \\left(x + 7\\right) \\left(x + 9\\right)$",
            "text/plain": [
              "(x - 12)*(x - 3)*(x - 1)*(x + 1)*(x + 7)*(x + 9)"
            ]
          },
          "metadata": {},
          "execution_count": 6
        }
      ]
    },
    {
      "cell_type": "markdown",
      "metadata": {
        "id": "xoq8A5ipMdRa"
      },
      "source": [
        "## SymPy’s solvers\n",
        "- https://docs.sympy.org/latest/tutorial/solvers.html\n",
        "- x\\*\\*5 - 15\\*x\\*\\*4  + 85\\*x\\*\\* 3 - 225\\*x\\*\\* 2 + 274\\*x - 120 = 0"
      ]
    },
    {
      "cell_type": "markdown",
      "metadata": {
        "id": "kd6sZCr4GLvD"
      },
      "source": [
        "**Group 18 Text Cell**"
      ]
    },
    {
      "cell_type": "markdown",
      "metadata": {
        "id": "UpEjlqXZMk8i"
      },
      "source": [
        "<img src=\"https://raw.githubusercontent.com/gjhernandezp/algorithms/master/SymPyLab/sympylabwolfram5.jpg\" />"
      ]
    },
    {
      "cell_type": "markdown",
      "metadata": {
        "id": "WVe1IfumGMFH"
      },
      "source": [
        "**Group 18 Text Cell**"
      ]
    },
    {
      "cell_type": "code",
      "metadata": {
        "id": "DLzUsS8YMlNK",
        "colab": {
          "base_uri": "https://localhost:8080/",
          "height": 37
        },
        "outputId": "68557f1c-3360-41dc-ca47-2f7bde7173d3"
      },
      "source": [
        "from sympy import Symbol, solveset, Eq\n",
        "x = Symbol('x')\n",
        "solveset(Eq(x**5 - 15*x**4  + 85*x**3 - 225*x**2 + 274*x - 120, 0), x)\n"
      ],
      "execution_count": null,
      "outputs": [
        {
          "output_type": "execute_result",
          "data": {
            "text/latex": "$\\displaystyle \\left\\{1, 2, 3, 4, 5\\right\\}$",
            "text/plain": [
              "FiniteSet(1, 2, 3, 4, 5)"
            ]
          },
          "metadata": {},
          "execution_count": 7
        }
      ]
    },
    {
      "cell_type": "code",
      "metadata": {
        "id": "dfLhy5y_GDaK",
        "colab": {
          "base_uri": "https://localhost:8080/",
          "height": 37
        },
        "outputId": "ffca9161-5792-42a9-96e2-18b97bf0e724"
      },
      "source": [
        "# Group 18 Code Cell\n",
        "\"\"\"\n",
        "(x^6 + x^5 - 142 x^4 - 370 x^3 + 2409 x^2 + 369 x - 2268)\n",
        "p =  (x**6 + x**5 - 142*x**4 - 370*x**3 + 2409*x**2 + 369*x - 2268) \n",
        "\"\"\"\n",
        "from sympy import Symbol, solveset, Eq\n",
        "x = Symbol('x')\n",
        "p2 =  (x**6 + x**5 - 142*x**4 - 370*x**3 + 2409*x**2 + 369*x - 2268) \n",
        "\n",
        "solveset(Eq(p2, 0), x)"
      ],
      "execution_count": null,
      "outputs": [
        {
          "output_type": "execute_result",
          "data": {
            "text/latex": "$\\displaystyle \\left\\{-9, -7, -1, 1, 3, 12\\right\\}$",
            "text/plain": [
              "FiniteSet(-9, -7, -1, 1, 3, 12)"
            ]
          },
          "metadata": {},
          "execution_count": 8
        }
      ]
    },
    {
      "cell_type": "code",
      "metadata": {
        "colab": {
          "base_uri": "https://localhost:8080/",
          "height": 47
        },
        "id": "ALzYmizCcXvv",
        "outputId": "b52db396-0a24-43b9-f1e7-f8ac0e7577a1"
      },
      "source": [
        "from sympy import Symbol, solveset, Eq, sqrt, pi\n",
        "x = Symbol('x')\n",
        "solveset(Eq(x**2 - (sqrt(2)+pi)*x + (sqrt(2)*pi) , 0), x)\n"
      ],
      "execution_count": null,
      "outputs": [
        {
          "output_type": "execute_result",
          "data": {
            "text/latex": "$\\displaystyle \\left\\{\\sqrt{2}, \\pi\\right\\}$",
            "text/plain": [
              "FiniteSet(pi, sqrt(2))"
            ]
          },
          "metadata": {},
          "execution_count": 9
        }
      ]
    },
    {
      "cell_type": "code",
      "metadata": {
        "id": "lJycGbdJGDrV",
        "colab": {
          "base_uri": "https://localhost:8080/",
          "height": 81
        },
        "outputId": "508c988f-d7f0-49ca-dd0f-ae1c5434c4bb"
      },
      "source": [
        "# Group 18 Code Cell\n",
        "from sympy import Symbol, solveset, Eq, sqrt, pi\n",
        "x = Symbol('x')\n",
        "solveset(Eq(x**2 + (sqrt(2)+pi)*x + (pi) , 0), x)"
      ],
      "execution_count": null,
      "outputs": [
        {
          "output_type": "execute_result",
          "data": {
            "text/latex": "$\\displaystyle \\left\\{- \\frac{\\pi}{2} - \\frac{\\sqrt{2}}{2} + \\frac{\\sqrt{- 4 \\pi + \\left(\\sqrt{2} + \\pi\\right)^{2}}}{2}, - \\frac{\\pi}{2} - \\frac{\\sqrt{- 4 \\pi + \\left(\\sqrt{2} + \\pi\\right)^{2}}}{2} - \\frac{\\sqrt{2}}{2}\\right\\}$",
            "text/plain": [
              "FiniteSet(-pi/2 - sqrt(2)/2 + sqrt(-4*pi + (sqrt(2) + pi)**2)/2, -pi/2 - sqrt(-4*pi + (sqrt(2) + pi)**2)/2 - sqrt(2)/2)"
            ]
          },
          "metadata": {},
          "execution_count": 10
        }
      ]
    },
    {
      "cell_type": "markdown",
      "metadata": {
        "id": "kw48-B_Z_vQc"
      },
      "source": [
        "*   Reference docs for the Poly Domains https://docs.sympy.org/dev/modules/polys/domainsref.html\n",
        "\n",
        "*   Introducing the Domains of the poly module https://docs.sympy.org/dev/modules/polys/domainsintro.html\n",
        "\n",
        "*   Internals of the Polynomial Manipulation Module https://docs.sympy.org/latest/modules/polys/internals.html"
      ]
    },
    {
      "cell_type": "code",
      "metadata": {
        "id": "r8jvBe5E_uQb",
        "colab": {
          "base_uri": "https://localhost:8080/"
        },
        "outputId": "cbe39a30-438a-4622-8550-52934715c227"
      },
      "source": [
        "def PolyGF2(p,mod):\n",
        "    q,r = div(p,mod,x) #quotient and remainder polynomial division by modulus mod\n",
        "    return q.as_poly(x,domain='GF(2)'), r.as_poly(x,domain='GF(2)')  #Z_2 ={0,1}\n",
        "\n",
        "m = x- (-1)\n",
        "q,r = PolyGF2(p,m)\n",
        "print(\"Quotient = \", q)\n",
        "print(\"Residual= \", r)"
      ],
      "execution_count": null,
      "outputs": [
        {
          "output_type": "stream",
          "name": "stdout",
          "text": [
            "Quotient =  Poly(x**3 + x, x, modulus=2)\n",
            "Residual=  Poly(0, x, modulus=2)\n"
          ]
        }
      ]
    },
    {
      "cell_type": "code",
      "metadata": {
        "id": "m56iS9aGGEQS",
        "colab": {
          "base_uri": "https://localhost:8080/"
        },
        "outputId": "4e77dd10-8264-47ee-a270-252608cc5965"
      },
      "source": [
        "# Group 18 Code Cell\n",
        "def PolyGF2(p,mod):\n",
        "    q,r = div(p,mod,x) #quotient and remainder polynomial division by modulus mod\n",
        "    return q.as_poly(x,domain='GF(2)'), r.as_poly(x,domain='GF(2)')  #Z_2 ={0,1}\n",
        "\n",
        "m = x- (-3)\n",
        "q,r = PolyGF2(p2,m)\n",
        "print('P = ', p)\n",
        "print('mod = ', m)\n",
        "print(\"Quotient = \", q)\n",
        "print(\"Residual= \", r)"
      ],
      "execution_count": null,
      "outputs": [
        {
          "output_type": "stream",
          "name": "stdout",
          "text": [
            "P =  x**4 - 9*x**3 + 31*x**2 - 39*x + 40\n",
            "mod =  x + 3\n",
            "Quotient =  Poly(x**5 + x, x, modulus=2)\n",
            "Residual=  Poly(0, x, modulus=2)\n"
          ]
        }
      ]
    },
    {
      "cell_type": "markdown",
      "metadata": {
        "id": "OtsxSwPmV3Vs"
      },
      "source": [
        "## SymPy’s Symbolic and Numercical Complex Evaluations\n",
        "- https://docs.sympy.org/latest/modules/evalf.html](https://)\n",
        "- x = x1 + I*x2,y = y1 + I*y2, z = z1 + I*z2, x*y*z"
      ]
    },
    {
      "cell_type": "markdown",
      "metadata": {
        "id": "MK0VNgwbGOfe"
      },
      "source": [
        "**Group 18 Text Cell**"
      ]
    },
    {
      "cell_type": "markdown",
      "metadata": {
        "id": "XxWt-AcaZxdp"
      },
      "source": [
        "<img src=\"https://raw.githubusercontent.com/gjhernandezp/algorithms/master/SymPyLab/sympylabwolfram7.jpg\" />"
      ]
    },
    {
      "cell_type": "markdown",
      "metadata": {
        "id": "PJhsuuSUGOvI"
      },
      "source": [
        "**Group 18 Text Cell**"
      ]
    },
    {
      "cell_type": "code",
      "metadata": {
        "id": "ENDQbfLGV31r",
        "colab": {
          "base_uri": "https://localhost:8080/"
        },
        "outputId": "bfd5e243-e116-4459-9c58-4f398a21791f"
      },
      "source": [
        "from sympy import *\n",
        "x1, x2, y1, y2, z1, z2 = symbols(\"x1 x2 y1 y2 z1 z2\", real=True)  \n",
        "x = 5*x1 + I*x2\n",
        "y = 5*y1 + I*y2\n",
        "z = 5*z1 + I*z2\n",
        "\n",
        "print(x*y*z)\n",
        "print(expand(x*y*z))\n",
        "print(expand((x*y)*z))\n",
        "print(expand(x*(y*z)))\n",
        "\n",
        "w=N(1/(pi + I), 20)\n",
        "print('w=',w)"
      ],
      "execution_count": null,
      "outputs": [
        {
          "output_type": "stream",
          "name": "stdout",
          "text": [
            "(5*x1 + I*x2)*(5*y1 + I*y2)*(5*z1 + I*z2)\n",
            "125*x1*y1*z1 + 25*I*x1*y1*z2 + 25*I*x1*y2*z1 - 5*x1*y2*z2 + 25*I*x2*y1*z1 - 5*x2*y1*z2 - 5*x2*y2*z1 - I*x2*y2*z2\n",
            "125*x1*y1*z1 + 25*I*x1*y1*z2 + 25*I*x1*y2*z1 - 5*x1*y2*z2 + 25*I*x2*y1*z1 - 5*x2*y1*z2 - 5*x2*y2*z1 - I*x2*y2*z2\n",
            "125*x1*y1*z1 + 25*I*x1*y1*z2 + 25*I*x1*y2*z1 - 5*x1*y2*z2 + 25*I*x2*y1*z1 - 5*x2*y1*z2 - 5*x2*y2*z1 - I*x2*y2*z2\n",
            "w= 0.28902548222223624241 - 0.091999668350375232456*I\n"
          ]
        }
      ]
    },
    {
      "cell_type": "code",
      "metadata": {
        "id": "JSoTyX-fGE-a",
        "colab": {
          "base_uri": "https://localhost:8080/"
        },
        "outputId": "ff839f64-8895-4785-99a1-7a30e5ed007a"
      },
      "source": [
        "# Group 18 Code Cell\n",
        "from sympy import *\n",
        "w1,w2, x1, x2, y1, y2, z1, z2 = symbols(\"w1 w2 x1 x2 y1 y2 z1 z2\", real=True)  \n",
        "x = x1 + I*x2 - w1 \n",
        "y = y1 + I*y2 + w1\n",
        "z = z1 + I*z2 - w2\n",
        "\n",
        "print(x*y*z)\n",
        "print(expand(x*y*z))\n",
        "print(expand((x*y)*z))\n",
        "print(expand(x*(y*z)))\n",
        "\n",
        "w=N(7/(2*pi + I), 5)\n",
        "print('w=',w)"
      ],
      "execution_count": null,
      "outputs": [
        {
          "output_type": "stream",
          "name": "stdout",
          "text": [
            "(-w1 + x1 + I*x2)*(w1 + y1 + I*y2)*(-w2 + z1 + I*z2)\n",
            "w1**2*w2 - w1**2*z1 - I*w1**2*z2 - w1*w2*x1 - I*w1*w2*x2 + w1*w2*y1 + I*w1*w2*y2 + w1*x1*z1 + I*w1*x1*z2 + I*w1*x2*z1 - w1*x2*z2 - w1*y1*z1 - I*w1*y1*z2 - I*w1*y2*z1 + w1*y2*z2 - w2*x1*y1 - I*w2*x1*y2 - I*w2*x2*y1 + w2*x2*y2 + x1*y1*z1 + I*x1*y1*z2 + I*x1*y2*z1 - x1*y2*z2 + I*x2*y1*z1 - x2*y1*z2 - x2*y2*z1 - I*x2*y2*z2\n",
            "w1**2*w2 - w1**2*z1 - I*w1**2*z2 - w1*w2*x1 - I*w1*w2*x2 + w1*w2*y1 + I*w1*w2*y2 + w1*x1*z1 + I*w1*x1*z2 + I*w1*x2*z1 - w1*x2*z2 - w1*y1*z1 - I*w1*y1*z2 - I*w1*y2*z1 + w1*y2*z2 - w2*x1*y1 - I*w2*x1*y2 - I*w2*x2*y1 + w2*x2*y2 + x1*y1*z1 + I*x1*y1*z2 + I*x1*y2*z1 - x1*y2*z2 + I*x2*y1*z1 - x2*y1*z2 - x2*y2*z1 - I*x2*y2*z2\n",
            "w1**2*w2 - w1**2*z1 - I*w1**2*z2 - w1*w2*x1 - I*w1*w2*x2 + w1*w2*y1 + I*w1*w2*y2 + w1*x1*z1 + I*w1*x1*z2 + I*w1*x2*z1 - w1*x2*z2 - w1*y1*z1 - I*w1*y1*z2 - I*w1*y2*z1 + w1*y2*z2 - w2*x1*y1 - I*w2*x1*y2 - I*w2*x2*y1 + w2*x2*y2 + x1*y1*z1 + I*x1*y1*z2 + I*x1*y2*z1 - x1*y2*z2 + I*x2*y1*z1 - x2*y1*z2 - x2*y2*z1 - I*x2*y2*z2\n",
            "w= 1.0866 - 0.17293*I\n"
          ]
        }
      ]
    },
    {
      "cell_type": "markdown",
      "metadata": {
        "id": "eaqIgmnkPNVT"
      },
      "source": [
        "## Wolfram alpha answers quastion in natural languaje\n",
        "- What is the average temperature in Bogota in September?\n",
        "\n",
        "<img src=\"https://raw.githubusercontent.com/gjhernandezp/algorithms/master/SymPyLab/sympylabwolfram6.jpg\" />"
      ]
    },
    {
      "cell_type": "markdown",
      "metadata": {
        "id": "L7_JGZpWGPd0"
      },
      "source": [
        "**Group 18 Text Cell**"
      ]
    }
  ]
}